{
 "cells": [
  {
   "cell_type": "code",
   "execution_count": 1,
   "id": "6decdb5f-149b-43f1-b3d5-6cb01441428a",
   "metadata": {
    "tags": []
   },
   "outputs": [
    {
     "name": "stdout",
     "output_type": "stream",
     "text": [
      "Requirement already satisfied: simpy in /opt/anaconda3/lib/python3.11/site-packages (4.1.1)\n"
     ]
    }
   ],
   "source": [
    "! pip install simpy"
   ]
  },
  {
   "cell_type": "code",
   "execution_count": 3,
   "id": "f815817a-5127-42b3-989b-f6c635d40c84",
   "metadata": {
    "tags": []
   },
   "outputs": [],
   "source": [
    "import simpy"
   ]
  },
  {
   "cell_type": "code",
   "execution_count": 5,
   "id": "047686c9-2dab-4b54-bbc1-89e3d57df738",
   "metadata": {
    "tags": []
   },
   "outputs": [],
   "source": [
    "SIM_DURATION = 100"
   ]
  },
  {
   "cell_type": "code",
   "execution_count": 7,
   "id": "19fa7340-5b1b-4139-bf17-388f99a102a4",
   "metadata": {
    "tags": []
   },
   "outputs": [],
   "source": [
    "class Cable:\n",
    "    \"\"\"This class represents the propagation through a cable.\"\"\"\n",
    "\n",
    "    def __init__(self, env, delay):\n",
    "        self.env = env\n",
    "        self.delay = delay\n",
    "        self.store = simpy.Store(env)\n",
    "\n",
    "    def latency(self, value):\n",
    "        yield self.env.timeout(self.delay)\n",
    "        self.store.put(value)\n",
    "\n",
    "    def put(self, value):\n",
    "        self.env.process(self.latency(value))\n",
    "\n",
    "    def get(self):\n",
    "        return self.store.get()"
   ]
  },
  {
   "cell_type": "code",
   "execution_count": 9,
   "id": "6b206cb1-b8e0-4ef7-ac91-bc1410e01c14",
   "metadata": {
    "tags": []
   },
   "outputs": [],
   "source": [
    "def sender(env, cable):\n",
    "    \"\"\"A process which randomly generates messages.\"\"\"\n",
    "    while True:\n",
    "        # wait for next transmission\n",
    "        yield env.timeout(5)\n",
    "        cable.put(f'Sender sent this at {env.now}')"
   ]
  },
  {
   "cell_type": "code",
   "execution_count": 11,
   "id": "99f66d77-b499-4993-bd12-193b5b7a0ead",
   "metadata": {
    "tags": []
   },
   "outputs": [],
   "source": [
    "def receiver(env, cable):\n",
    "    \"\"\"A process which consumes messages.\"\"\"\n",
    "    while True:\n",
    "        # Get event for message pipe\n",
    "        msg = yield cable.get()\n",
    "        print(f'Received this at {env.now} while {msg}')"
   ]
  },
  {
   "cell_type": "code",
   "execution_count": 13,
   "id": "1e692e61-c86a-4e81-a23a-d38e26fd80ef",
   "metadata": {
    "tags": []
   },
   "outputs": [
    {
     "name": "stdout",
     "output_type": "stream",
     "text": [
      "Event Latency\n",
      "Received this at 15 while Sender sent this at 5\n",
      "Received this at 20 while Sender sent this at 10\n",
      "Received this at 25 while Sender sent this at 15\n",
      "Received this at 30 while Sender sent this at 20\n",
      "Received this at 35 while Sender sent this at 25\n",
      "Received this at 40 while Sender sent this at 30\n",
      "Received this at 45 while Sender sent this at 35\n",
      "Received this at 50 while Sender sent this at 40\n",
      "Received this at 55 while Sender sent this at 45\n",
      "Received this at 60 while Sender sent this at 50\n",
      "Received this at 65 while Sender sent this at 55\n",
      "Received this at 70 while Sender sent this at 60\n",
      "Received this at 75 while Sender sent this at 65\n",
      "Received this at 80 while Sender sent this at 70\n",
      "Received this at 85 while Sender sent this at 75\n",
      "Received this at 90 while Sender sent this at 80\n",
      "Received this at 95 while Sender sent this at 85\n"
     ]
    }
   ],
   "source": [
    "# Setup and start the simulation\n",
    "print('Event Latency')\n",
    "env = simpy.Environment()\n",
    "\n",
    "cable = Cable(env, 10)\n",
    "env.process(sender(env, cable))\n",
    "env.process(receiver(env, cable))\n",
    "\n",
    "env.run(until=SIM_DURATION)"
   ]
  },
  {
   "cell_type": "code",
   "execution_count": null,
   "id": "9b97a035-9b7b-48e9-96d4-a527c48b3767",
   "metadata": {},
   "outputs": [],
   "source": []
  }
 ],
 "metadata": {
  "kernelspec": {
   "display_name": "Python 3 (ipykernel)",
   "language": "python",
   "name": "python3"
  },
  "language_info": {
   "codemirror_mode": {
    "name": "ipython",
    "version": 3
   },
   "file_extension": ".py",
   "mimetype": "text/x-python",
   "name": "python",
   "nbconvert_exporter": "python",
   "pygments_lexer": "ipython3",
   "version": "3.11.8"
  }
 },
 "nbformat": 4,
 "nbformat_minor": 5
}
