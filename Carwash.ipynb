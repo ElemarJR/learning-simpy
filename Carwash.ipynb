{
 "cells": [
  {
   "cell_type": "code",
   "execution_count": 4,
   "id": "a27d32bb-88f5-49b9-9cd2-96ffc313c62e",
   "metadata": {
    "tags": []
   },
   "outputs": [
    {
     "name": "stdout",
     "output_type": "stream",
     "text": [
      "Requirement already satisfied: simpy in /opt/anaconda3/lib/python3.11/site-packages (4.1.1)\n"
     ]
    }
   ],
   "source": [
    "! pip install simpy"
   ]
  },
  {
   "cell_type": "code",
   "execution_count": 6,
   "id": "bc77317d-1a66-4428-b01d-024d9811b91c",
   "metadata": {
    "tags": []
   },
   "outputs": [],
   "source": [
    "import itertools\n",
    "import random\n",
    "\n",
    "import simpy"
   ]
  },
  {
   "cell_type": "code",
   "execution_count": 8,
   "id": "99d8edf6-6a90-4d87-accd-9404c123822e",
   "metadata": {
    "tags": []
   },
   "outputs": [],
   "source": [
    "# fmt: off\n",
    "RANDOM_SEED = 42\n",
    "NUM_MACHINES = 2  # Number of machines in the carwash\n",
    "WASHTIME = 5      # Minutes it takes to clean a car\n",
    "T_INTER = 7       # Create a car every ~7 minutes\n",
    "SIM_TIME = 20     # Simulation time in minutes\n",
    "# fmt: on"
   ]
  },
  {
   "cell_type": "code",
   "execution_count": 10,
   "id": "c4326cf3-98b0-4e59-97a4-de87670f300c",
   "metadata": {
    "tags": []
   },
   "outputs": [],
   "source": [
    "class Carwash:\n",
    "    \"\"\"A carwash has a limited number of machines (``NUM_MACHINES``) to\n",
    "    clean cars in parallel.\n",
    "\n",
    "    Cars have to request one of the machines. When they got one, they\n",
    "    can start the washing processes and wait for it to finish (which\n",
    "    takes ``washtime`` minutes).\n",
    "\n",
    "    \"\"\"\n",
    "\n",
    "    def __init__(self, env, num_machines, washtime):\n",
    "        self.env = env\n",
    "        self.machine = simpy.Resource(env, num_machines)\n",
    "        self.washtime = washtime\n",
    "\n",
    "    def wash(self, car):\n",
    "        \"\"\"The washing processes. It takes a ``car`` processes and tries\n",
    "        to clean it.\"\"\"\n",
    "        yield self.env.timeout(self.washtime)\n",
    "        pct_dirt = random.randint(50, 99)\n",
    "        print(f\"Carwash removed {pct_dirt}% of {car}'s dirt.\")"
   ]
  },
  {
   "cell_type": "code",
   "execution_count": 12,
   "id": "73a4c64f-e3d0-45c8-9f4d-5dd4620a443e",
   "metadata": {
    "tags": []
   },
   "outputs": [],
   "source": [
    "def car(env, name, cw):\n",
    "    \"\"\"The car process (each car has a ``name``) arrives at the carwash\n",
    "    (``cw``) and requests a cleaning machine.\n",
    "\n",
    "    It then starts the washing process, waits for it to finish and\n",
    "    leaves to never come back ...\n",
    "\n",
    "    \"\"\"\n",
    "    print(f'{name} arrives at the carwash at {env.now:.2f}.')\n",
    "    with cw.machine.request() as request:\n",
    "        yield request\n",
    "\n",
    "        print(f'{name} enters the carwash at {env.now:.2f}.')\n",
    "        yield env.process(cw.wash(name))\n",
    "\n",
    "        print(f'{name} leaves the carwash at {env.now:.2f}.')"
   ]
  },
  {
   "cell_type": "code",
   "execution_count": 14,
   "id": "787d0e70-7ec5-4597-8e25-e1798668e02b",
   "metadata": {
    "tags": []
   },
   "outputs": [],
   "source": [
    "def setup(env, num_machines, washtime, t_inter):\n",
    "    \"\"\"Create a carwash, a number of initial cars and keep creating cars\n",
    "    approx. every ``t_inter`` minutes.\"\"\"\n",
    "    # Create the carwash\n",
    "    carwash = Carwash(env, num_machines, washtime)\n",
    "\n",
    "    car_count = itertools.count()\n",
    "\n",
    "    # Create 4 initial cars\n",
    "    for _ in range(4):\n",
    "        env.process(car(env, f'Car {next(car_count)}', carwash))\n",
    "\n",
    "    # Create more cars while the simulation is running\n",
    "    while True:\n",
    "        yield env.timeout(random.randint(t_inter - 2, t_inter + 2))\n",
    "        env.process(car(env, f'Car {next(car_count)}', carwash))"
   ]
  },
  {
   "cell_type": "code",
   "execution_count": 16,
   "id": "03d79d6a-5999-4b7e-8a28-af1d3e010d1b",
   "metadata": {
    "tags": []
   },
   "outputs": [
    {
     "name": "stdout",
     "output_type": "stream",
     "text": [
      "Carwash\n",
      "Check out http://youtu.be/fXXmeP9TvBg while simulating ... ;-)\n",
      "Car 0 arrives at the carwash at 0.00.\n",
      "Car 1 arrives at the carwash at 0.00.\n",
      "Car 2 arrives at the carwash at 0.00.\n",
      "Car 3 arrives at the carwash at 0.00.\n",
      "Car 0 enters the carwash at 0.00.\n",
      "Car 1 enters the carwash at 0.00.\n",
      "Car 4 arrives at the carwash at 5.00.\n",
      "Carwash removed 97% of Car 0's dirt.\n",
      "Carwash removed 67% of Car 1's dirt.\n",
      "Car 0 leaves the carwash at 5.00.\n",
      "Car 1 leaves the carwash at 5.00.\n",
      "Car 2 enters the carwash at 5.00.\n",
      "Car 3 enters the carwash at 5.00.\n",
      "Car 5 arrives at the carwash at 10.00.\n",
      "Carwash removed 64% of Car 2's dirt.\n",
      "Carwash removed 58% of Car 3's dirt.\n",
      "Car 2 leaves the carwash at 10.00.\n",
      "Car 3 leaves the carwash at 10.00.\n",
      "Car 4 enters the carwash at 10.00.\n",
      "Car 5 enters the carwash at 10.00.\n",
      "Carwash removed 97% of Car 4's dirt.\n",
      "Carwash removed 56% of Car 5's dirt.\n",
      "Car 4 leaves the carwash at 15.00.\n",
      "Car 5 leaves the carwash at 15.00.\n",
      "Car 6 arrives at the carwash at 16.00.\n",
      "Car 6 enters the carwash at 16.00.\n"
     ]
    }
   ],
   "source": [
    "print('Carwash')\n",
    "print('Check out http://youtu.be/fXXmeP9TvBg while simulating ... ;-)')\n",
    "random.seed(RANDOM_SEED)  # This helps to reproduce the results\n",
    "\n",
    "# Create an environment and start the setup process\n",
    "env = simpy.Environment()\n",
    "env.process(setup(env, NUM_MACHINES, WASHTIME, T_INTER))\n",
    "\n",
    "# Execute!\n",
    "env.run(until=SIM_TIME)"
   ]
  },
  {
   "cell_type": "code",
   "execution_count": null,
   "id": "478385db-67bc-4934-9d19-9f403714f745",
   "metadata": {},
   "outputs": [],
   "source": []
  }
 ],
 "metadata": {
  "kernelspec": {
   "display_name": "Python 3 (ipykernel)",
   "language": "python",
   "name": "python3"
  },
  "language_info": {
   "codemirror_mode": {
    "name": "ipython",
    "version": 3
   },
   "file_extension": ".py",
   "mimetype": "text/x-python",
   "name": "python",
   "nbconvert_exporter": "python",
   "pygments_lexer": "ipython3",
   "version": "3.11.8"
  }
 },
 "nbformat": 4,
 "nbformat_minor": 5
}
