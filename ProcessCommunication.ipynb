{
 "cells": [
  {
   "cell_type": "code",
   "execution_count": 2,
   "id": "e267af49-ada4-42ec-9a6c-6db2f8229975",
   "metadata": {
    "tags": []
   },
   "outputs": [
    {
     "name": "stdout",
     "output_type": "stream",
     "text": [
      "Requirement already satisfied: simpy in /opt/anaconda3/lib/python3.11/site-packages (4.1.1)\n"
     ]
    }
   ],
   "source": [
    "! pip install simpy"
   ]
  },
  {
   "cell_type": "code",
   "execution_count": 4,
   "id": "d0035b6e-24db-4aa7-9166-334948de1d05",
   "metadata": {
    "tags": []
   },
   "outputs": [],
   "source": [
    "import random\n",
    "\n",
    "import simpy\n",
    "import simpy.core"
   ]
  },
  {
   "cell_type": "code",
   "execution_count": 6,
   "id": "40d34524-0822-4acc-a02d-01b00b5a4434",
   "metadata": {
    "tags": []
   },
   "outputs": [],
   "source": [
    "RANDOM_SEED = 42\n",
    "SIM_TIME = 100"
   ]
  },
  {
   "cell_type": "code",
   "execution_count": 8,
   "id": "7eee6e0a-ceeb-466c-bd46-bb902f376087",
   "metadata": {
    "tags": []
   },
   "outputs": [],
   "source": [
    "class BroadcastPipe:\n",
    "    \"\"\"A Broadcast pipe that allows one process to send messages to many.\n",
    "\n",
    "    This construct is useful when message consumers are running at\n",
    "    different rates than message generators and provides an event\n",
    "    buffering to the consuming processes.\n",
    "\n",
    "    The parameters are used to create a new\n",
    "    :class:`~simpy.resources.store.Store` instance each time\n",
    "    :meth:`get_output_conn()` is called.\n",
    "\n",
    "    \"\"\"\n",
    "\n",
    "    def __init__(self, env, capacity=simpy.core.Infinity):\n",
    "        self.env = env\n",
    "        self.capacity = capacity\n",
    "        self.pipes = []\n",
    "\n",
    "    def put(self, value):\n",
    "        \"\"\"Broadcast a *value* to all receivers.\"\"\"\n",
    "        if not self.pipes:\n",
    "            raise RuntimeError('There are no output pipes.')\n",
    "        events = [store.put(value) for store in self.pipes]\n",
    "        return self.env.all_of(events)  # Condition event for all \"events\"\n",
    "\n",
    "    def get_output_conn(self):\n",
    "        \"\"\"Get a new output connection for this broadcast pipe.\n",
    "\n",
    "        The return value is a :class:`~simpy.resources.store.Store`.\n",
    "\n",
    "        \"\"\"\n",
    "        pipe = simpy.Store(self.env, capacity=self.capacity)\n",
    "        self.pipes.append(pipe)\n",
    "        return pipe\n"
   ]
  },
  {
   "cell_type": "code",
   "execution_count": 10,
   "id": "44a33f3c-525f-408f-aafd-70e5b8f02ee7",
   "metadata": {
    "tags": []
   },
   "outputs": [],
   "source": [
    "def message_generator(name, env, out_pipe):\n",
    "    \"\"\"A process which randomly generates messages.\"\"\"\n",
    "    while True:\n",
    "        # wait for next transmission\n",
    "        yield env.timeout(random.randint(6, 10))\n",
    "\n",
    "        # messages are time stamped to later check if the consumer was\n",
    "        # late getting them.  Note, using event.triggered to do this may\n",
    "        # result in failure due to FIFO nature of simulation yields.\n",
    "        # (i.e. if at the same env.now, message_generator puts a message\n",
    "        # in the pipe first and then message_consumer gets from pipe,\n",
    "        # the event.triggered will be True in the other order it will be\n",
    "        # False\n",
    "        msg = (env.now, f'{name} says hello at {env.now}')\n",
    "        out_pipe.put(msg)"
   ]
  },
  {
   "cell_type": "code",
   "execution_count": 12,
   "id": "2835c467-795d-4053-8bf0-8c4f2cabb304",
   "metadata": {
    "tags": []
   },
   "outputs": [],
   "source": [
    "def message_consumer(name, env, in_pipe):\n",
    "    \"\"\"A process which consumes messages.\"\"\"\n",
    "    while True:\n",
    "        # Get event for message pipe\n",
    "        msg = yield in_pipe.get()\n",
    "\n",
    "        if msg[0] < env.now:\n",
    "            # if message was already put into pipe, then\n",
    "            # message_consumer was late getting to it. Depending on what\n",
    "            # is being modeled this, may, or may not have some\n",
    "            # significance\n",
    "            print(\n",
    "                f'LATE Getting Message: at time {env.now}: '\n",
    "                f'{name} received message: {msg[1]}'\n",
    "            )\n",
    "\n",
    "        else:\n",
    "            # message_consumer is synchronized with message_generator\n",
    "            print(f'at time {env.now}: {name} received message: {msg[1]}.')\n",
    "\n",
    "        # Process does some other work, which may result in missing messages\n",
    "        yield env.timeout(random.randint(4, 8))"
   ]
  },
  {
   "cell_type": "code",
   "execution_count": 14,
   "id": "3e82fa99-ea2e-4517-a1dd-3c7ce851e45f",
   "metadata": {
    "tags": []
   },
   "outputs": [
    {
     "name": "stdout",
     "output_type": "stream",
     "text": [
      "Process communication\n",
      "\n",
      "One-to-one pipe communication\n",
      "\n",
      "at time 6: Consumer A received message: Generator A says hello at 6.\n",
      "at time 12: Consumer A received message: Generator A says hello at 12.\n",
      "at time 19: Consumer A received message: Generator A says hello at 19.\n",
      "at time 26: Consumer A received message: Generator A says hello at 26.\n",
      "at time 36: Consumer A received message: Generator A says hello at 36.\n",
      "at time 46: Consumer A received message: Generator A says hello at 46.\n",
      "at time 52: Consumer A received message: Generator A says hello at 52.\n",
      "at time 58: Consumer A received message: Generator A says hello at 58.\n",
      "LATE Getting Message: at time 66: Consumer A received message: Generator A says hello at 65\n",
      "at time 75: Consumer A received message: Generator A says hello at 75.\n",
      "at time 85: Consumer A received message: Generator A says hello at 85.\n",
      "at time 95: Consumer A received message: Generator A says hello at 95.\n",
      "\n",
      "One-to-many pipe communication\n",
      "\n",
      "at time 10: Consumer A received message: Generator A says hello at 10.\n",
      "at time 10: Consumer B received message: Generator A says hello at 10.\n",
      "at time 18: Consumer A received message: Generator A says hello at 18.\n",
      "at time 18: Consumer B received message: Generator A says hello at 18.\n",
      "at time 27: Consumer A received message: Generator A says hello at 27.\n",
      "at time 27: Consumer B received message: Generator A says hello at 27.\n",
      "at time 34: Consumer A received message: Generator A says hello at 34.\n",
      "at time 34: Consumer B received message: Generator A says hello at 34.\n",
      "at time 40: Consumer A received message: Generator A says hello at 40.\n",
      "LATE Getting Message: at time 41: Consumer B received message: Generator A says hello at 40\n",
      "at time 46: Consumer A received message: Generator A says hello at 46.\n",
      "LATE Getting Message: at time 47: Consumer B received message: Generator A says hello at 46\n",
      "at time 56: Consumer A received message: Generator A says hello at 56.\n",
      "at time 56: Consumer B received message: Generator A says hello at 56.\n",
      "at time 65: Consumer A received message: Generator A says hello at 65.\n",
      "at time 65: Consumer B received message: Generator A says hello at 65.\n",
      "at time 74: Consumer A received message: Generator A says hello at 74.\n",
      "at time 74: Consumer B received message: Generator A says hello at 74.\n",
      "at time 82: Consumer A received message: Generator A says hello at 82.\n",
      "at time 82: Consumer B received message: Generator A says hello at 82.\n",
      "at time 92: Consumer A received message: Generator A says hello at 92.\n",
      "at time 92: Consumer B received message: Generator A says hello at 92.\n",
      "at time 98: Consumer B received message: Generator A says hello at 98.\n",
      "at time 98: Consumer A received message: Generator A says hello at 98.\n"
     ]
    }
   ],
   "source": [
    "# Setup and start the simulation\n",
    "print('Process communication')\n",
    "random.seed(RANDOM_SEED)\n",
    "env = simpy.Environment()\n",
    "\n",
    "# For one-to-one or many-to-one type pipes, use Store\n",
    "pipe = simpy.Store(env)\n",
    "env.process(message_generator('Generator A', env, pipe))\n",
    "env.process(message_consumer('Consumer A', env, pipe))\n",
    "\n",
    "print('\\nOne-to-one pipe communication\\n')\n",
    "env.run(until=SIM_TIME)\n",
    "\n",
    "# For one-to many use BroadcastPipe\n",
    "# (Note: could also be used for one-to-one,many-to-one or many-to-many)\n",
    "env = simpy.Environment()\n",
    "bc_pipe = BroadcastPipe(env)\n",
    "\n",
    "env.process(message_generator('Generator A', env, bc_pipe))\n",
    "env.process(message_consumer('Consumer A', env, bc_pipe.get_output_conn()))\n",
    "env.process(message_consumer('Consumer B', env, bc_pipe.get_output_conn()))\n",
    "\n",
    "print('\\nOne-to-many pipe communication\\n')\n",
    "env.run(until=SIM_TIME)"
   ]
  },
  {
   "cell_type": "code",
   "execution_count": null,
   "id": "4a073043-edc2-4bb0-9c96-45365598c2bc",
   "metadata": {},
   "outputs": [],
   "source": []
  }
 ],
 "metadata": {
  "kernelspec": {
   "display_name": "Python 3 (ipykernel)",
   "language": "python",
   "name": "python3"
  },
  "language_info": {
   "codemirror_mode": {
    "name": "ipython",
    "version": 3
   },
   "file_extension": ".py",
   "mimetype": "text/x-python",
   "name": "python",
   "nbconvert_exporter": "python",
   "pygments_lexer": "ipython3",
   "version": "3.11.8"
  }
 },
 "nbformat": 4,
 "nbformat_minor": 5
}
