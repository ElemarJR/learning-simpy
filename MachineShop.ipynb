{
 "cells": [
  {
   "cell_type": "code",
   "execution_count": 1,
   "id": "ad6c5915-7852-4996-af58-31acc5ee8a80",
   "metadata": {
    "tags": []
   },
   "outputs": [
    {
     "name": "stdout",
     "output_type": "stream",
     "text": [
      "Requirement already satisfied: simpy in /opt/anaconda3/lib/python3.11/site-packages (4.1.1)\n"
     ]
    }
   ],
   "source": [
    "!pip install simpy"
   ]
  },
  {
   "cell_type": "code",
   "execution_count": 3,
   "id": "b06aca42-a988-4756-9051-4742bf41dd55",
   "metadata": {
    "tags": []
   },
   "outputs": [],
   "source": [
    "import random\n",
    "\n",
    "import simpy"
   ]
  },
  {
   "cell_type": "code",
   "execution_count": 5,
   "id": "c9eea92c-1088-4248-a2e4-0d30eca077ba",
   "metadata": {
    "tags": []
   },
   "outputs": [],
   "source": [
    "# fmt: off\n",
    "RANDOM_SEED = 42\n",
    "PT_MEAN = 10.0         # Avg. processing time in minutes\n",
    "PT_SIGMA = 2.0         # Sigma of processing time\n",
    "MTTF = 300.0           # Mean time to failure in minutes\n",
    "BREAK_MEAN = 1 / MTTF  # Param. for expovariate distribution\n",
    "REPAIR_TIME = 30.0     # Time it takes to repair a machine in minutes\n",
    "JOB_DURATION = 30.0    # Duration of other jobs in minutes\n",
    "NUM_MACHINES = 10      # Number of machines in the machine shop\n",
    "WEEKS = 4              # Simulation time in weeks\n",
    "SIM_TIME = WEEKS * 7 * 24 * 60  # Simulation time in minutes\n",
    "# fmt: on"
   ]
  },
  {
   "cell_type": "code",
   "execution_count": 7,
   "id": "ed267f12-2361-4d13-8023-2c0807453464",
   "metadata": {
    "tags": []
   },
   "outputs": [],
   "source": [
    "def time_per_part():\n",
    "    \"\"\"Return actual processing time for a concrete part.\"\"\"\n",
    "    t = random.normalvariate(PT_MEAN, PT_SIGMA)\n",
    "    # The normalvariate can be negative, but we want only positive times.\n",
    "    while t <= 0:\n",
    "        t = random.normalvariate(PT_MEAN, PT_SIGMA)\n",
    "    return t\n",
    "\n",
    "\n",
    "def time_to_failure():\n",
    "    \"\"\"Return time until next failure for a machine.\"\"\"\n",
    "    return random.expovariate(BREAK_MEAN)"
   ]
  },
  {
   "cell_type": "code",
   "execution_count": 9,
   "id": "c3673556-ee6c-420a-93b8-58afe5b087b6",
   "metadata": {
    "tags": []
   },
   "outputs": [],
   "source": [
    "class Machine:\n",
    "    \"\"\"A machine produces parts and my get broken every now and then.\n",
    "\n",
    "    If it breaks, it requests a *repairman* and continues the production\n",
    "    after the it is repaired.\n",
    "\n",
    "    A machine has a *name* and a number of *parts_made* thus far.\n",
    "\n",
    "    \"\"\"\n",
    "\n",
    "    def __init__(self, env, name, repairman):\n",
    "        self.env = env\n",
    "        self.name = name\n",
    "        self.parts_made = 0\n",
    "        self.broken = False\n",
    "\n",
    "        # Start \"working\" and \"break_machine\" processes for this machine.\n",
    "        self.process = env.process(self.working(repairman))\n",
    "        env.process(self.break_machine())\n",
    "\n",
    "    def working(self, repairman):\n",
    "        \"\"\"Produce parts as long as the simulation runs.\n",
    "\n",
    "        While making a part, the machine may break multiple times.\n",
    "        Request a repairman when this happens.\n",
    "\n",
    "        \"\"\"\n",
    "        while True:\n",
    "            # Start making a new part\n",
    "            done_in = time_per_part()\n",
    "            while done_in:\n",
    "                start = self.env.now\n",
    "                try:\n",
    "                    # Working on the part\n",
    "                    yield self.env.timeout(done_in)\n",
    "                    done_in = 0  # Set to 0 to exit while loop.\n",
    "\n",
    "                except simpy.Interrupt:\n",
    "                    self.broken = True\n",
    "                    done_in -= self.env.now - start  # How much time left?\n",
    "\n",
    "                    # Request a repairman. This will preempt its \"other_job\".\n",
    "                    with repairman.request(priority=1) as req:\n",
    "                        yield req\n",
    "                        yield self.env.timeout(REPAIR_TIME)\n",
    "\n",
    "                    self.broken = False\n",
    "\n",
    "            # Part is done.\n",
    "            self.parts_made += 1\n",
    "\n",
    "    def break_machine(self):\n",
    "        \"\"\"Break the machine every now and then.\"\"\"\n",
    "        while True:\n",
    "            yield self.env.timeout(time_to_failure())\n",
    "            if not self.broken:\n",
    "                # Only break the machine if it is currently working.\n",
    "                self.process.interrupt()"
   ]
  },
  {
   "cell_type": "code",
   "execution_count": 11,
   "id": "9e2678d6-1d40-4c07-921f-9add20f6b0b3",
   "metadata": {
    "tags": []
   },
   "outputs": [],
   "source": [
    "def other_jobs(env, repairman):\n",
    "    \"\"\"The repairman's other (unimportant) job.\"\"\"\n",
    "    while True:\n",
    "        # Start a new job\n",
    "        done_in = JOB_DURATION\n",
    "        while done_in:\n",
    "            # Retry the job until it is done.\n",
    "            # Its priority is lower than that of machine repairs.\n",
    "            with repairman.request(priority=2) as req:\n",
    "                yield req\n",
    "                start = env.now\n",
    "                try:\n",
    "                    yield env.timeout(done_in)\n",
    "                    done_in = 0\n",
    "                except simpy.Interrupt:\n",
    "                    done_in -= env.now - start"
   ]
  },
  {
   "cell_type": "code",
   "execution_count": 13,
   "id": "9a2758ed-37b6-48b5-bce7-36214e507ec3",
   "metadata": {
    "tags": []
   },
   "outputs": [
    {
     "name": "stdout",
     "output_type": "stream",
     "text": [
      "Machine shop\n",
      "Machine shop results after 4 weeks\n",
      "Machine 0 made 3251 parts.\n",
      "Machine 1 made 3273 parts.\n",
      "Machine 2 made 3242 parts.\n",
      "Machine 3 made 3343 parts.\n",
      "Machine 4 made 3387 parts.\n",
      "Machine 5 made 3244 parts.\n",
      "Machine 6 made 3269 parts.\n",
      "Machine 7 made 3185 parts.\n",
      "Machine 8 made 3302 parts.\n",
      "Machine 9 made 3279 parts.\n"
     ]
    }
   ],
   "source": [
    "# Setup and start the simulation\n",
    "print('Machine shop')\n",
    "random.seed(RANDOM_SEED)  # This helps to reproduce the results\n",
    "\n",
    "# Create an environment and start the setup process\n",
    "env = simpy.Environment()\n",
    "repairman = simpy.PreemptiveResource(env, capacity=1)\n",
    "machines = [Machine(env, f'Machine {i}', repairman) for i in range(NUM_MACHINES)]\n",
    "env.process(other_jobs(env, repairman))\n",
    "\n",
    "# Execute!\n",
    "env.run(until=SIM_TIME)\n",
    "\n",
    "# Analysis/results\n",
    "print(f'Machine shop results after {WEEKS} weeks')\n",
    "for machine in machines:\n",
    "    print(f'{machine.name} made {machine.parts_made} parts.')"
   ]
  },
  {
   "cell_type": "code",
   "execution_count": null,
   "id": "0a53bff9-0bbc-466c-b950-30bc77823289",
   "metadata": {},
   "outputs": [],
   "source": []
  }
 ],
 "metadata": {
  "kernelspec": {
   "display_name": "Python 3 (ipykernel)",
   "language": "python",
   "name": "python3"
  },
  "language_info": {
   "codemirror_mode": {
    "name": "ipython",
    "version": 3
   },
   "file_extension": ".py",
   "mimetype": "text/x-python",
   "name": "python",
   "nbconvert_exporter": "python",
   "pygments_lexer": "ipython3",
   "version": "3.11.8"
  }
 },
 "nbformat": 4,
 "nbformat_minor": 5
}
