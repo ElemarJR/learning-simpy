{
 "cells": [
  {
   "cell_type": "code",
   "execution_count": 1,
   "id": "595cd406-c51d-4880-98fb-7c340405676b",
   "metadata": {
    "tags": []
   },
   "outputs": [
    {
     "name": "stdout",
     "output_type": "stream",
     "text": [
      "Requirement already satisfied: simpy in /opt/anaconda3/lib/python3.11/site-packages (4.1.1)\n"
     ]
    }
   ],
   "source": [
    "!pip install simpy"
   ]
  },
  {
   "cell_type": "code",
   "execution_count": 3,
   "id": "48533134-4c01-4441-8696-7f40dd5b2d5c",
   "metadata": {
    "tags": []
   },
   "outputs": [],
   "source": [
    "from __future__ import annotations"
   ]
  },
  {
   "cell_type": "code",
   "execution_count": 7,
   "id": "a5d33934-76b0-4106-89db-b494592d561f",
   "metadata": {
    "tags": []
   },
   "outputs": [],
   "source": [
    "import random\n",
    "from typing import Dict, List, NamedTuple, Optional\n",
    "\n",
    "import simpy"
   ]
  },
  {
   "cell_type": "code",
   "execution_count": 9,
   "id": "a2ea1d62-0267-458c-923f-669c073953a5",
   "metadata": {
    "tags": []
   },
   "outputs": [],
   "source": [
    "RANDOM_SEED = 42\n",
    "TICKETS = 50  # Number of tickets per movie\n",
    "SELLOUT_THRESHOLD = 2  # Fewer tickets than this is a sellout\n",
    "SIM_TIME = 120  # Simulate until"
   ]
  },
  {
   "cell_type": "code",
   "execution_count": 11,
   "id": "27ceeef4-982a-4962-aa7e-5ccdfa15dadb",
   "metadata": {
    "tags": []
   },
   "outputs": [],
   "source": [
    "def moviegoer(env, movie, num_tickets, theater):\n",
    "    \"\"\"A moviegoer tries to by a number of tickets (*num_tickets*) for\n",
    "    a certain *movie* in a *theater*.\n",
    "\n",
    "    If the movie becomes sold out, she leaves the theater. If she gets\n",
    "    to the counter, she tries to buy a number of tickets. If not enough\n",
    "    tickets are left, she argues with the teller and leaves.\n",
    "\n",
    "    If at most one ticket is left after the moviegoer bought her\n",
    "    tickets, the *sold out* event for this movie is triggered causing\n",
    "    all remaining moviegoers to leave.\n",
    "\n",
    "    \"\"\"\n",
    "    with theater.counter.request() as my_turn:\n",
    "        # Wait until it's our turn or until the movie is sold out\n",
    "        result = yield my_turn | theater.sold_out[movie]\n",
    "\n",
    "        # Check if it's our turn or if movie is sold out\n",
    "        if my_turn not in result:\n",
    "            theater.num_renegers[movie] += 1\n",
    "            return\n",
    "\n",
    "        # Check if enough tickets left.\n",
    "        if theater.available[movie] < num_tickets:\n",
    "            # Moviegoer leaves after some discussion\n",
    "            yield env.timeout(0.5)\n",
    "            return\n",
    "\n",
    "        # Buy tickets\n",
    "        theater.available[movie] -= num_tickets\n",
    "        if theater.available[movie] < SELLOUT_THRESHOLD:\n",
    "            # Trigger the \"sold out\" event for the movie\n",
    "            theater.sold_out[movie].succeed()\n",
    "            theater.when_sold_out[movie] = env.now\n",
    "            theater.available[movie] = 0\n",
    "        yield env.timeout(1)"
   ]
  },
  {
   "cell_type": "code",
   "execution_count": 13,
   "id": "69b4f507-dbeb-48c0-87ab-b263e9bddca8",
   "metadata": {
    "tags": []
   },
   "outputs": [],
   "source": [
    "def customer_arrivals(env, theater):\n",
    "    \"\"\"Create new *moviegoers* until the sim time reaches 120.\"\"\"\n",
    "    while True:\n",
    "        yield env.timeout(random.expovariate(1 / 0.5))\n",
    "\n",
    "        movie = random.choice(theater.movies)\n",
    "        num_tickets = random.randint(1, 6)\n",
    "        if theater.available[movie]:\n",
    "            env.process(moviegoer(env, movie, num_tickets, theater))"
   ]
  },
  {
   "cell_type": "code",
   "execution_count": 15,
   "id": "ffa3fcdf-4376-430f-92eb-0de742a79bda",
   "metadata": {
    "tags": []
   },
   "outputs": [],
   "source": [
    "class Theater(NamedTuple):\n",
    "    counter: simpy.Resource\n",
    "    movies: List[str]\n",
    "    available: Dict[str, int]\n",
    "    sold_out: Dict[str, simpy.Event]\n",
    "    when_sold_out: Dict[str, Optional[float]]\n",
    "    num_renegers: Dict[str, int]"
   ]
  },
  {
   "cell_type": "code",
   "execution_count": 17,
   "id": "99483983-5b31-40c1-b96e-9d9da1c6283a",
   "metadata": {
    "tags": []
   },
   "outputs": [
    {
     "name": "stdout",
     "output_type": "stream",
     "text": [
      "Movie renege\n",
      "Movie \"Python Unchained\" sold out 38.0 minutes after ticket counter opening.\n",
      "  Number of people leaving queue when film sold out: 16\n",
      "Movie \"Kill Process\" sold out 43.0 minutes after ticket counter opening.\n",
      "  Number of people leaving queue when film sold out: 5\n",
      "Movie \"Pulp Implementation\" sold out 28.0 minutes after ticket counter opening.\n",
      "  Number of people leaving queue when film sold out: 5\n"
     ]
    }
   ],
   "source": [
    "# Setup and start the simulation\n",
    "print('Movie renege')\n",
    "random.seed(RANDOM_SEED)\n",
    "env = simpy.Environment()\n",
    "\n",
    "# Create movie theater\n",
    "movies = ['Python Unchained', 'Kill Process', 'Pulp Implementation']\n",
    "theater = Theater(\n",
    "    counter=simpy.Resource(env, capacity=1),\n",
    "    movies=movies,\n",
    "    available={movie: TICKETS for movie in movies},\n",
    "    sold_out={movie: env.event() for movie in movies},\n",
    "    when_sold_out={movie: None for movie in movies},\n",
    "    num_renegers={movie: 0 for movie in movies},\n",
    ")\n",
    "\n",
    "# Start process and run\n",
    "env.process(customer_arrivals(env, theater))\n",
    "env.run(until=SIM_TIME)\n",
    "\n",
    "# Analysis/results\n",
    "for movie in movies:\n",
    "    if theater.sold_out[movie]:\n",
    "        sellout_time = theater.when_sold_out[movie]\n",
    "        num_renegers = theater.num_renegers[movie]\n",
    "        print(\n",
    "            f'Movie \"{movie}\" sold out {sellout_time:.1f} minutes '\n",
    "            f'after ticket counter opening.'\n",
    "        )\n",
    "        print(f'  Number of people leaving queue when film sold out: {num_renegers}')"
   ]
  },
  {
   "cell_type": "code",
   "execution_count": null,
   "id": "612807c7-99b3-4e49-85c8-d4552dcd96ed",
   "metadata": {},
   "outputs": [],
   "source": []
  }
 ],
 "metadata": {
  "kernelspec": {
   "display_name": "Python 3 (ipykernel)",
   "language": "python",
   "name": "python3"
  },
  "language_info": {
   "codemirror_mode": {
    "name": "ipython",
    "version": 3
   },
   "file_extension": ".py",
   "mimetype": "text/x-python",
   "name": "python",
   "nbconvert_exporter": "python",
   "pygments_lexer": "ipython3",
   "version": "3.11.8"
  }
 },
 "nbformat": 4,
 "nbformat_minor": 5
}
