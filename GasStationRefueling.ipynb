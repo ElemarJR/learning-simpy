{
 "cells": [
  {
   "cell_type": "code",
   "execution_count": 2,
   "id": "ded8e85c-267f-4a7e-857f-fbfc58542f4b",
   "metadata": {
    "tags": []
   },
   "outputs": [
    {
     "name": "stdout",
     "output_type": "stream",
     "text": [
      "Requirement already satisfied: simpy in /opt/anaconda3/lib/python3.11/site-packages (4.1.1)\n"
     ]
    }
   ],
   "source": [
    "! pip install simpy"
   ]
  },
  {
   "cell_type": "code",
   "execution_count": 4,
   "id": "c2bc32af-876f-44a3-8f00-e439109d48d5",
   "metadata": {
    "tags": []
   },
   "outputs": [],
   "source": [
    "import itertools\n",
    "import random\n",
    "\n",
    "import simpy"
   ]
  },
  {
   "cell_type": "code",
   "execution_count": 6,
   "id": "34fc7211-6d5b-410b-b64f-8df5e81f9867",
   "metadata": {
    "tags": []
   },
   "outputs": [],
   "source": [
    "# fmt: off\n",
    "RANDOM_SEED = 42\n",
    "STATION_TANK_SIZE = 200    # Size of the gas station tank (liters)\n",
    "THRESHOLD = 25             # Station tank minimum level (% of full)\n",
    "CAR_TANK_SIZE = 50         # Size of car fuel tanks (liters)\n",
    "CAR_TANK_LEVEL = [5, 25]   # Min/max levels of car fuel tanks (liters)\n",
    "REFUELING_SPEED = 2        # Rate of refuelling car fuel tank (liters / second)\n",
    "TANK_TRUCK_TIME = 300      # Time it takes tank truck to arrive (seconds)\n",
    "T_INTER = [30, 300]        # Interval between car arrivals [min, max] (seconds)\n",
    "SIM_TIME = 1000            # Simulation time (seconds)\n",
    "# fmt: on"
   ]
  },
  {
   "cell_type": "code",
   "execution_count": 8,
   "id": "dbd3a6fc-5347-4793-8cab-80ea984ff815",
   "metadata": {
    "tags": []
   },
   "outputs": [],
   "source": [
    "def car(name, env, gas_station, station_tank):\n",
    "    \"\"\"A car arrives at the gas station for refueling.\n",
    "\n",
    "    It requests one of the gas station's fuel pumps and tries to get the\n",
    "    desired amount of fuel from it. If the station's fuel tank is\n",
    "    depleted, the car has to wait for the tank truck to arrive.\n",
    "\n",
    "    \"\"\"\n",
    "    car_tank_level = random.randint(*CAR_TANK_LEVEL)\n",
    "    print(f'{env.now:6.1f} s: {name} arrived at gas station')\n",
    "    with gas_station.request() as req:\n",
    "        # Request one of the gas pumps\n",
    "        yield req\n",
    "\n",
    "        # Get the required amount of fuel\n",
    "        fuel_required = CAR_TANK_SIZE - car_tank_level\n",
    "        yield station_tank.get(fuel_required)\n",
    "\n",
    "        # The \"actual\" refueling process takes some time\n",
    "        yield env.timeout(fuel_required / REFUELING_SPEED)\n",
    "\n",
    "        print(f'{env.now:6.1f} s: {name} refueled with {fuel_required:.1f}L')"
   ]
  },
  {
   "cell_type": "code",
   "execution_count": 10,
   "id": "e1de06c4-d2d5-4ce5-8e88-47b1b6fa5f31",
   "metadata": {
    "tags": []
   },
   "outputs": [],
   "source": [
    "def gas_station_control(env, station_tank):\n",
    "    \"\"\"Periodically check the level of the gas station tank and call the tank\n",
    "    truck if the level falls below a threshold.\"\"\"\n",
    "    while True:\n",
    "        if station_tank.level / station_tank.capacity * 100 < THRESHOLD:\n",
    "            # We need to call the tank truck now!\n",
    "            print(f'{env.now:6.1f} s: Calling tank truck')\n",
    "            # Wait for the tank truck to arrive and refuel the station tank\n",
    "            yield env.process(tank_truck(env, station_tank))\n",
    "\n",
    "        yield env.timeout(10)  # Check every 10 seconds"
   ]
  },
  {
   "cell_type": "code",
   "execution_count": 12,
   "id": "dce5906c-41d8-4b42-95b7-84418272390d",
   "metadata": {
    "tags": []
   },
   "outputs": [],
   "source": [
    "def tank_truck(env, station_tank):\n",
    "    \"\"\"Arrives at the gas station after a certain delay and refuels it.\"\"\"\n",
    "    yield env.timeout(TANK_TRUCK_TIME)\n",
    "    amount = station_tank.capacity - station_tank.level\n",
    "    station_tank.put(amount)\n",
    "    print(\n",
    "        f'{env.now:6.1f} s: Tank truck arrived and refuelled station with {amount:.1f}L'\n",
    "    )"
   ]
  },
  {
   "cell_type": "code",
   "execution_count": 14,
   "id": "2159f418-455b-48c6-b657-ec66a9366bee",
   "metadata": {
    "tags": []
   },
   "outputs": [],
   "source": [
    "def car_generator(env, gas_station, station_tank):\n",
    "    \"\"\"Generate new cars that arrive at the gas station.\"\"\"\n",
    "    for i in itertools.count():\n",
    "        yield env.timeout(random.randint(*T_INTER))\n",
    "        env.process(car(f'Car {i}', env, gas_station, station_tank))"
   ]
  },
  {
   "cell_type": "code",
   "execution_count": 16,
   "id": "ea80dbd9-8e52-4b19-b57f-9b6690a26242",
   "metadata": {
    "tags": []
   },
   "outputs": [
    {
     "name": "stdout",
     "output_type": "stream",
     "text": [
      "Gas Station refuelling\n",
      "  87.0 s: Car 0 arrived at gas station\n",
      " 105.5 s: Car 0 refueled with 37.0L\n",
      " 129.0 s: Car 1 arrived at gas station\n",
      " 148.0 s: Car 1 refueled with 38.0L\n",
      " 284.0 s: Car 2 arrived at gas station\n",
      " 305.0 s: Car 2 refueled with 42.0L\n",
      " 385.0 s: Car 3 arrived at gas station\n",
      " 398.5 s: Car 3 refueled with 27.0L\n",
      " 459.0 s: Car 4 arrived at gas station\n",
      " 460.0 s: Calling tank truck\n",
      " 481.0 s: Car 4 refueled with 44.0L\n",
      " 705.0 s: Car 5 arrived at gas station\n",
      " 750.0 s: Car 6 arrived at gas station\n",
      " 760.0 s: Tank truck arrived and refuelled station with 188.0L\n",
      " 779.0 s: Car 6 refueled with 38.0L\n",
      " 781.5 s: Car 5 refueled with 43.0L\n",
      " 891.0 s: Car 7 arrived at gas station\n",
      " 904.0 s: Car 7 refueled with 26.0L\n"
     ]
    }
   ],
   "source": [
    "# Setup and start the simulation\n",
    "print('Gas Station refuelling')\n",
    "random.seed(RANDOM_SEED)\n",
    "\n",
    "# Create environment and start processes\n",
    "env = simpy.Environment()\n",
    "gas_station = simpy.Resource(env, 2)\n",
    "station_tank = simpy.Container(env, STATION_TANK_SIZE, init=STATION_TANK_SIZE)\n",
    "env.process(gas_station_control(env, station_tank))\n",
    "env.process(car_generator(env, gas_station, station_tank))\n",
    "\n",
    "# Execute!\n",
    "env.run(until=SIM_TIME)"
   ]
  },
  {
   "cell_type": "code",
   "execution_count": null,
   "id": "0bc431dc-97a2-494b-85fd-7a878d4dc3ba",
   "metadata": {},
   "outputs": [],
   "source": []
  }
 ],
 "metadata": {
  "kernelspec": {
   "display_name": "Python 3 (ipykernel)",
   "language": "python",
   "name": "python3"
  },
  "language_info": {
   "codemirror_mode": {
    "name": "ipython",
    "version": 3
   },
   "file_extension": ".py",
   "mimetype": "text/x-python",
   "name": "python",
   "nbconvert_exporter": "python",
   "pygments_lexer": "ipython3",
   "version": "3.11.8"
  }
 },
 "nbformat": 4,
 "nbformat_minor": 5
}
